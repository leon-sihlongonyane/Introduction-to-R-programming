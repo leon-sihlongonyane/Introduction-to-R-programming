{
 "cells": [
  {
   "cell_type": "markdown",
   "id": "eleven-receiver",
   "metadata": {},
   "source": [
    "#### LEON MANGALISO SIHLONGONYANE"
   ]
  },
  {
   "cell_type": "markdown",
   "id": "covered-internship",
   "metadata": {},
   "source": [
    "### ASSIGNMENT 1: STATISTICS"
   ]
  },
  {
   "cell_type": "markdown",
   "id": "latest-windsor",
   "metadata": {},
   "source": [
    "##### QUESTION 1: PROBABILITY"
   ]
  },
  {
   "cell_type": "markdown",
   "id": "fancy-library",
   "metadata": {},
   "source": [
    "<html><font color = 'red', size = 3><br><br> Good.</i></font></html>\n",
    "<html><font color = 'red', size = 3><br><br>First line of 2. RHS should be P(\\bar{A\\cup B}).</i></font></html>\n",
    "<html><font color = 'red', size = 3><br><br>Second line of 4. is missing LHS which should be => P(A \\cap \\bar(B))</i></font></html>\n",
    "<html><font color = 'red', size = 3><br><br>For recommendation how many rooms do you think should be added?</i></font></html>\n",
    "    \n",
    "<html><font color = 'red', size = 3><br><br><i>--- Karima</i></font></html>"
   ]
  },
  {
   "cell_type": "markdown",
   "id": "young-malaysia",
   "metadata": {},
   "source": [
    "###### A.\n",
    "1. $$P(A\\cup B) = P(A) + P(B) - P(A \\cap B)$$ \n",
    "\t$$ \\quad = 0.5 + 0.6  - 0.3 $$\n",
    "    $$ \\quad =0.8$$\n",
    "   \n",
    "Probability that atleast one of rooms is occupied: $0.8$ or $80 \\%$\n",
    "***   \n",
    "2. $$P( \\bar{A} \\cap \\bar{B})= P(\\bar{A \\cap B})$$ \n",
    "      $$ \\quad = 1 - P(A\\cup B)$$\n",
    "      $$ \\quad = 1 - 0.8$$\n",
    "      $$ \\quad = 0.2$$\n",
    "     \n",
    "Probability that none of rooms is occupied: $0.2$ or $20 \\%$ \n",
    "***\n",
    "3. $$P(\\bar{B}) = 1 - P(B)$$\n",
    "    $$ \\quad = 1 - 0.6$$\n",
    "    $$ \\quad = 0.4$$\n",
    "\n",
    "Probability rooms B is not occupied: $0.4$ or $40 \\%$\n",
    "***\n",
    "4. $$P(A) = P(A \\cap B) + P(A \\cap \\bar{B})$$\n",
    "     $$ \\quad = P(A) - P(A \\cap B)$$\n",
    "     $$ \\quad = 0.5 - 0.3$$\n",
    "     $$ \\quad = 0.2$$\n",
    "\n",
    "Probability that room A is occupied, but room B is not occupied: $0.2$ or $20 \\%$\n",
    "***\n",
    "5. $$P( only \\, one \\, room) = P(A \\cap \\bar{B}) + P( \\bar{A} \\cap B)$$\n",
    "    $$ \\quad = 0.2 + 0.3$$\n",
    "    $$ = 0.5$$\n",
    "    \n",
    "Probability that only one of room is occupied: $0.5$ or $50 \\%$\n",
    "###### B. \n",
    " The director must consider increasing number of the consultion rooms. The chances of having either room occupied is always high, and if one is occuppied, the other room has a high chance of being occupied, making it hard to have accomodate more people at go."
   ]
  },
  {
   "cell_type": "markdown",
   "id": "black-crisis",
   "metadata": {},
   "source": [
    "##### QUESTION 2: SAMPLING\n",
    "<html><font color = 'red', size = 3><br><br> T.R </font></html>\n",
    "\n",
    "###### 1. \n",
    "\n",
    "$List \\, of \\, 6 \\, random \\, numbers = [ 10480, \\, 22368, \\, 24130, \\, 42167, \\, 37570, \\, 77921]$\n",
    "\n",
    "To select the sample from above, with numbers ranging from $0$ to $49$.\n",
    "\n",
    "We picked: $10, 48, 02, 23, 24, 13, 04, 21, 37, 07, 21$\n",
    "\n",
    "Say we pick the first five; \n",
    "\n",
    "Winning numbers: $10, 48, 02, 23, 24$\n",
    "\n",
    "say we pick the last five;\n",
    "\n",
    "Winning numbers: $04, 21, 37, 07, 21$\n",
    "\n",
    "<html><font color = 'red', size = 3><br><br> What do you mean from last five? It is different from right to left </font></html>\n",
    "\n",
    "\n",
    "###### 3. "
   ]
  },
  {
   "cell_type": "code",
   "execution_count": 44,
   "id": "funky-aircraft",
   "metadata": {},
   "outputs": [
    {
     "name": "stdout",
     "output_type": "stream",
     "text": [
      "[1] 205\n",
      "[1] 405\n",
      "[1] 605\n",
      "[1] 805\n"
     ]
    }
   ],
   "source": [
    "n <- 50\n",
    "N <- 10000\n",
    "k <- N/n       #step of our sampling\n",
    "x <- 5\n",
    "for (i in 1:4){x <- x + k\n",
    "append(x, k)\n",
    "print(x)}"
   ]
  },
  {
   "cell_type": "markdown",
   "id": "anonymous-elder",
   "metadata": {},
   "source": [
    "The four selected health workers could be: $205, 402, 602, 802$ \n",
    "\n",
    "<html><font color = 'red', size = 3><br><br> The first worker should be between 1 and 200. The rest are obtained accordingly.</font></html>"
   ]
  },
  {
   "cell_type": "markdown",
   "id": "normal-slovak",
   "metadata": {},
   "source": [
    "###### 4. \n",
    "\n",
    "**Random Sampling:** \n",
    "\n",
    "cons\n",
    "- Expensive\n",
    "\n",
    "- Time consuming\n",
    "\n",
    "pros\n",
    "- Relative speed and efficiency compared to the census\n",
    "\n",
    "- Strong external validity\n",
    "***\n",
    "**Stratified sampling:**\n",
    "\n",
    "cons\n",
    "- Time consuming and tedious.\n",
    "\n",
    "pros\n",
    "- Ensures a high degree of representativeness of all the strata or layers in the population.\n",
    "***\n",
    "**Cluster sampling:**\n",
    "\n",
    "cons\n",
    "- Possibly, members of units are different from one another, decreasing the techniques effectiveness\n",
    "\n",
    "pros\n",
    "- Easy and convenient\n",
    "***\n",
    "**Quota sampling:**\n",
    "\n",
    "cons\n",
    "- Degree of generalizability is questionable.\n",
    "\n",
    "pros\n",
    "-  Insures some degree of representativeness of all the strata in the population\n",
    "***\n",
    "**Snowball sampling:**\n",
    "\n",
    "cons\n",
    "- The researcher has little control over the sampling method. The subjects that the researcher can obtain rely mainly on the previous subjects that were observed.\n",
    "\n",
    "pros\n",
    "- The chain referral process allows the researcher to reach populations that are difficult to sample when using other sampling methods.\n",
    "\n",
    "References:\n",
    "\n",
    "https://www.cloudresearch.com/resources/guides/sampling/pros-cons-of-different-sampling-methods/\n",
    "\n",
    "https://explorable.com/snowball-sampling\n",
    "\n",
    "\n",
    "<html><font color = 'red', size = 3><br><br> Good </font></html>\n",
    "\n",
    "\n",
    "###### 5. \n",
    "\n",
    "From the code below :\n",
    "- Province $6$, we have hospitals: $3, 6, 11, 7$\n",
    "- Province $1$, we have hopsitals: $1, 3, 7, 5$\n",
    "- Province $4$, we have hospital: $2, 3, 5, 1$"
   ]
  },
  {
   "cell_type": "code",
   "execution_count": 46,
   "id": "registered-straight",
   "metadata": {},
   "outputs": [
    {
     "name": "stdout",
     "output_type": "stream",
     "text": [
      "   prov hos avg\n",
      "1     6   1  12\n",
      "2     6   2  11\n",
      "3     6   3  65\n",
      "4     6   4  43\n",
      "5     6   5  31\n",
      "6     6   6  21\n",
      "7     6   7  21\n",
      "8     6   8  34\n",
      "9     6   9  89\n",
      "10    6  10  76\n",
      "11    6  11 111\n",
      "[1]  3  6 11  7\n",
      "  prov hos avg\n",
      "1    1   1  15\n",
      "2    1   2  23\n",
      "3    1   3  45\n",
      "4    1   4  12\n",
      "5    1   5  76\n",
      "6    1   6  23\n",
      "7    1   7  67\n",
      "[1] 1 3 7 5\n",
      "  prov hos avg\n",
      "1    4   1 123\n",
      "2    4   2 347\n",
      "3    4   3 213\n",
      "4    4   4   4\n",
      "5    4   5  67\n",
      "6    4   6  90\n",
      "7    4   7  65\n",
      "[1] 2 3 5 1\n"
     ]
    },
    {
     "data": {
      "text/html": [
       "<style>\n",
       ".list-inline {list-style: none; margin:0; padding: 0}\n",
       ".list-inline>li {display: inline-block}\n",
       ".list-inline>li:not(:last-child)::after {content: \"\\00b7\"; padding: 0 .5ex}\n",
       "</style>\n",
       "<ol class=list-inline><li>2</li><li>3</li><li>5</li><li>1</li></ol>\n"
      ],
      "text/latex": [
       "\\begin{enumerate*}\n",
       "\\item 2\n",
       "\\item 3\n",
       "\\item 5\n",
       "\\item 1\n",
       "\\end{enumerate*}\n"
      ],
      "text/markdown": [
       "1. 2\n",
       "2. 3\n",
       "3. 5\n",
       "4. 1\n",
       "\n",
       "\n"
      ],
      "text/plain": [
       "[1] 2 3 5 1"
      ]
     },
     "metadata": {},
     "output_type": "display_data"
    }
   ],
   "source": [
    "library(dplyr)\n",
    "prov <- c(1, 1, 1, 1, 1, 1, 1, 2, 2, 2, 2, 2, 2, 3, 3, 3, 3, 3, 3,\n",
    "              3, 3, 4, 4, 4, 4, 4, 4, 4, 5, 5, 5, 5, 5, 5, 6,\n",
    "              6, 6, 6, 6, 6, 6, 6, 6, 6, 6)   #data for provinces\n",
    "\n",
    "\n",
    "hos <- c(1,  2,  3,  4,  5,  6,  7,  1,  2, 3,  4,  5,  6,  1,  2,  3,\n",
    "              4,  5,  6,  7,  8,  1,  2, 3,  4,  5,  6,  7,  1,  2,  3,  4,\n",
    "              5,  6,  1,  2,  3,  4,  5,  6,  7,  8,  9, 10, 11)    #data for hospitals\n",
    "\n",
    "avg <- c(15,  23,  45,  12,  76,  23,  67,  21,  34,   5,\n",
    "                         78,  96,  43,  21,  23,  11,   9, 76,  32,  67,\n",
    "                         99, 123, 347, 213,   4,  67,  90,  65, 245,  45,\n",
    "                         67,  89,  54,  32, 12,  11,  65,  43,  31,  21,\n",
    "                         21,  34,  89,  76, 111)   #data for aerage number of patients\n",
    "set.seed(0)   #to fix the random numbers generated\n",
    "my_data <- data.frame(prov, hos, avg)   # Data table\n",
    "x <- sample(unique(my_data$prov), 3)  # sampling 3 provinces\n",
    "for ( i in c(1,2,3)){\n",
    "        my_data1 <- filter(my_data, prov == x[i])\n",
    "        sample1 = sample(my_data1$hos, 4, prob = my_data1$avg / sum(my_data1$avg))\n",
    "        print(my_data1)\n",
    "        print(sample1)\n",
    "}\n",
    "# FOR LOOP done for 3 iterations as we pick 3 provinces randomnly."
   ]
  },
  {
   "cell_type": "markdown",
   "id": "greatest-restriction",
   "metadata": {},
   "source": [
    "##### QUESTION 3: INTRODUCTION TO R"
   ]
  },
  {
   "cell_type": "markdown",
   "id": "removed-chart",
   "metadata": {},
   "source": [
    "1."
   ]
  },
  {
   "cell_type": "code",
   "execution_count": 54,
   "id": "continuing-rescue",
   "metadata": {},
   "outputs": [
    {
     "data": {
      "text/html": [
       "<style>\n",
       ".list-inline {list-style: none; margin:0; padding: 0}\n",
       ".list-inline>li {display: inline-block}\n",
       ".list-inline>li:not(:last-child)::after {content: \"\\00b7\"; padding: 0 .5ex}\n",
       "</style>\n",
       "<ol class=list-inline><li>24.4807856079326</li><li>21.1200227885019</li><li>21.64080601557</li><li>21.3196367085906</li><li>21.4457560936143</li><li>21.5165615781762</li><li>22.8559592982636</li><li>21.6928545949783</li><li>21.1236559691495</li><li>24.3262114817328</li><li>21.6283375621387</li><li>21.6889989671341</li><li>21.8264645457701</li><li>23.2343742526555</li><li>21.8725827144247</li><li>21.9348157029183</li><li>20.8193294172835</li><li>21.4383474130852</li><li>22.1042009394383</li><li>20.9800048295011</li><li>22.920578409669</li><li>19.3700643044334</li><li>22.5309737903475</li><li>19.3387908423527</li><li>21.4786940564537</li><li>21.0849923648836</li><li>20.87053870851</li><li>21.9014518899814</li><li>18.6842322107738</li><li>24.0379020757538</li></ol>\n"
      ],
      "text/latex": [
       "\\begin{enumerate*}\n",
       "\\item 24.4807856079326\n",
       "\\item 21.1200227885019\n",
       "\\item 21.64080601557\n",
       "\\item 21.3196367085906\n",
       "\\item 21.4457560936143\n",
       "\\item 21.5165615781762\n",
       "\\item 22.8559592982636\n",
       "\\item 21.6928545949783\n",
       "\\item 21.1236559691495\n",
       "\\item 24.3262114817328\n",
       "\\item 21.6283375621387\n",
       "\\item 21.6889989671341\n",
       "\\item 21.8264645457701\n",
       "\\item 23.2343742526555\n",
       "\\item 21.8725827144247\n",
       "\\item 21.9348157029183\n",
       "\\item 20.8193294172835\n",
       "\\item 21.4383474130852\n",
       "\\item 22.1042009394383\n",
       "\\item 20.9800048295011\n",
       "\\item 22.920578409669\n",
       "\\item 19.3700643044334\n",
       "\\item 22.5309737903475\n",
       "\\item 19.3387908423527\n",
       "\\item 21.4786940564537\n",
       "\\item 21.0849923648836\n",
       "\\item 20.87053870851\n",
       "\\item 21.9014518899814\n",
       "\\item 18.6842322107738\n",
       "\\item 24.0379020757538\n",
       "\\end{enumerate*}\n"
      ],
      "text/markdown": [
       "1. 24.4807856079326\n",
       "2. 21.1200227885019\n",
       "3. 21.64080601557\n",
       "4. 21.3196367085906\n",
       "5. 21.4457560936143\n",
       "6. 21.5165615781762\n",
       "7. 22.8559592982636\n",
       "8. 21.6928545949783\n",
       "9. 21.1236559691495\n",
       "10. 24.3262114817328\n",
       "11. 21.6283375621387\n",
       "12. 21.6889989671341\n",
       "13. 21.8264645457701\n",
       "14. 23.2343742526555\n",
       "15. 21.8725827144247\n",
       "16. 21.9348157029183\n",
       "17. 20.8193294172835\n",
       "18. 21.4383474130852\n",
       "19. 22.1042009394383\n",
       "20. 20.9800048295011\n",
       "21. 22.920578409669\n",
       "22. 19.3700643044334\n",
       "23. 22.5309737903475\n",
       "24. 19.3387908423527\n",
       "25. 21.4786940564537\n",
       "26. 21.0849923648836\n",
       "27. 20.87053870851\n",
       "28. 21.9014518899814\n",
       "29. 18.6842322107738\n",
       "30. 24.0379020757538\n",
       "\n",
       "\n"
      ],
      "text/plain": [
       " [1] 24.48079 21.12002 21.64081 21.31964 21.44576 21.51656 22.85596 21.69285\n",
       " [9] 21.12366 24.32621 21.62834 21.68900 21.82646 23.23437 21.87258 21.93482\n",
       "[17] 20.81933 21.43835 22.10420 20.98000 22.92058 19.37006 22.53097 19.33879\n",
       "[25] 21.47869 21.08499 20.87054 21.90145 18.68423 24.03790"
      ]
     },
     "metadata": {},
     "output_type": "display_data"
    }
   ],
   "source": [
    "x1 <-c(rnorm(30,mean=22,sd=sqrt(3)))   #normal distribution\n",
    "x1"
   ]
  },
  {
   "cell_type": "markdown",
   "id": "fifth-source",
   "metadata": {},
   "source": [
    "2."
   ]
  },
  {
   "cell_type": "code",
   "execution_count": 55,
   "id": "hazardous-cycling",
   "metadata": {},
   "outputs": [
    {
     "data": {
      "text/html": [
       "<style>\n",
       ".list-inline {list-style: none; margin:0; padding: 0}\n",
       ".list-inline>li {display: inline-block}\n",
       ".list-inline>li:not(:last-child)::after {content: \"\\00b7\"; padding: 0 .5ex}\n",
       "</style>\n",
       "<ol class=list-inline><li>1</li><li>1</li><li>1</li><li>1</li><li>1</li><li>1</li><li>1</li><li>1</li><li>0</li><li>1</li><li>1</li><li>0</li><li>1</li><li>1</li><li>1</li><li>0</li><li>0</li><li>1</li><li>1</li><li>1</li><li>1</li><li>0</li><li>1</li><li>0</li><li>1</li><li>1</li><li>1</li><li>1</li><li>0</li><li>0</li></ol>\n"
      ],
      "text/latex": [
       "\\begin{enumerate*}\n",
       "\\item 1\n",
       "\\item 1\n",
       "\\item 1\n",
       "\\item 1\n",
       "\\item 1\n",
       "\\item 1\n",
       "\\item 1\n",
       "\\item 1\n",
       "\\item 0\n",
       "\\item 1\n",
       "\\item 1\n",
       "\\item 0\n",
       "\\item 1\n",
       "\\item 1\n",
       "\\item 1\n",
       "\\item 0\n",
       "\\item 0\n",
       "\\item 1\n",
       "\\item 1\n",
       "\\item 1\n",
       "\\item 1\n",
       "\\item 0\n",
       "\\item 1\n",
       "\\item 0\n",
       "\\item 1\n",
       "\\item 1\n",
       "\\item 1\n",
       "\\item 1\n",
       "\\item 0\n",
       "\\item 0\n",
       "\\end{enumerate*}\n"
      ],
      "text/markdown": [
       "1. 1\n",
       "2. 1\n",
       "3. 1\n",
       "4. 1\n",
       "5. 1\n",
       "6. 1\n",
       "7. 1\n",
       "8. 1\n",
       "9. 0\n",
       "10. 1\n",
       "11. 1\n",
       "12. 0\n",
       "13. 1\n",
       "14. 1\n",
       "15. 1\n",
       "16. 0\n",
       "17. 0\n",
       "18. 1\n",
       "19. 1\n",
       "20. 1\n",
       "21. 1\n",
       "22. 0\n",
       "23. 1\n",
       "24. 0\n",
       "25. 1\n",
       "26. 1\n",
       "27. 1\n",
       "28. 1\n",
       "29. 0\n",
       "30. 0\n",
       "\n",
       "\n"
      ],
      "text/plain": [
       " [1] 1 1 1 1 1 1 1 1 0 1 1 0 1 1 1 0 0 1 1 1 1 0 1 0 1 1 1 1 0 0"
      ]
     },
     "metadata": {},
     "output_type": "display_data"
    }
   ],
   "source": [
    "x2 <-c(rbinom(30,1,0.6))    #binormal ditribution\n",
    "x2"
   ]
  },
  {
   "cell_type": "markdown",
   "id": "homeless-manufacturer",
   "metadata": {},
   "source": [
    "3."
   ]
  },
  {
   "cell_type": "code",
   "execution_count": 56,
   "id": "resistant-words",
   "metadata": {},
   "outputs": [
    {
     "data": {
      "text/html": [
       "<style>\n",
       ".list-inline {list-style: none; margin:0; padding: 0}\n",
       ".list-inline>li {display: inline-block}\n",
       ".list-inline>li:not(:last-child)::after {content: \"\\00b7\"; padding: 0 .5ex}\n",
       "</style>\n",
       "<ol class=list-inline><li>19980.3538221004</li><li>19956.2205790838</li><li>20059.1121597565</li><li>20013.4428542669</li><li>19992.4533160412</li><li>20033.472172986</li><li>20028.0311454791</li><li>19980.4178154236</li><li>20069.7630853966</li><li>19991.9353371985</li><li>19954.953523906</li><li>19995.433683646</li><li>20006.5629385378</li><li>20072.984685315</li><li>20003.3457646438</li><li>20014.4515711311</li><li>19997.5602099611</li><li>19989.4379659771</li><li>19998.9018665644</li><li>20024.9073512915</li><li>20065.6250093024</li><li>20032.4890015733</li><li>20038.1974174375</li><li>19961.0621345157</li><li>20031.1135098112</li><li>20006.9546329353</li><li>19953.6014801112</li><li>20016.4761857952</li><li>19994.9797386006</li><li>20046.3143173801</li></ol>\n"
      ],
      "text/latex": [
       "\\begin{enumerate*}\n",
       "\\item 19980.3538221004\n",
       "\\item 19956.2205790838\n",
       "\\item 20059.1121597565\n",
       "\\item 20013.4428542669\n",
       "\\item 19992.4533160412\n",
       "\\item 20033.472172986\n",
       "\\item 20028.0311454791\n",
       "\\item 19980.4178154236\n",
       "\\item 20069.7630853966\n",
       "\\item 19991.9353371985\n",
       "\\item 19954.953523906\n",
       "\\item 19995.433683646\n",
       "\\item 20006.5629385378\n",
       "\\item 20072.984685315\n",
       "\\item 20003.3457646438\n",
       "\\item 20014.4515711311\n",
       "\\item 19997.5602099611\n",
       "\\item 19989.4379659771\n",
       "\\item 19998.9018665644\n",
       "\\item 20024.9073512915\n",
       "\\item 20065.6250093024\n",
       "\\item 20032.4890015733\n",
       "\\item 20038.1974174375\n",
       "\\item 19961.0621345157\n",
       "\\item 20031.1135098112\n",
       "\\item 20006.9546329353\n",
       "\\item 19953.6014801112\n",
       "\\item 20016.4761857952\n",
       "\\item 19994.9797386006\n",
       "\\item 20046.3143173801\n",
       "\\end{enumerate*}\n"
      ],
      "text/markdown": [
       "1. 19980.3538221004\n",
       "2. 19956.2205790838\n",
       "3. 20059.1121597565\n",
       "4. 20013.4428542669\n",
       "5. 19992.4533160412\n",
       "6. 20033.472172986\n",
       "7. 20028.0311454791\n",
       "8. 19980.4178154236\n",
       "9. 20069.7630853966\n",
       "10. 19991.9353371985\n",
       "11. 19954.953523906\n",
       "12. 19995.433683646\n",
       "13. 20006.5629385378\n",
       "14. 20072.984685315\n",
       "15. 20003.3457646438\n",
       "16. 20014.4515711311\n",
       "17. 19997.5602099611\n",
       "18. 19989.4379659771\n",
       "19. 19998.9018665644\n",
       "20. 20024.9073512915\n",
       "21. 20065.6250093024\n",
       "22. 20032.4890015733\n",
       "23. 20038.1974174375\n",
       "24. 19961.0621345157\n",
       "25. 20031.1135098112\n",
       "26. 20006.9546329353\n",
       "27. 19953.6014801112\n",
       "28. 20016.4761857952\n",
       "29. 19994.9797386006\n",
       "30. 20046.3143173801\n",
       "\n",
       "\n"
      ],
      "text/plain": [
       " [1] 19980.35 19956.22 20059.11 20013.44 19992.45 20033.47 20028.03 19980.42\n",
       " [9] 20069.76 19991.94 19954.95 19995.43 20006.56 20072.98 20003.35 20014.45\n",
       "[17] 19997.56 19989.44 19998.90 20024.91 20065.63 20032.49 20038.20 19961.06\n",
       "[25] 20031.11 20006.95 19953.60 20016.48 19994.98 20046.31"
      ]
     },
     "metadata": {},
     "output_type": "display_data"
    }
   ],
   "source": [
    "y <- c(rnorm(30,mean=20000,sd=sqrt(1000)))    #normal distribution\n",
    "y"
   ]
  },
  {
   "cell_type": "markdown",
   "id": "abroad-station",
   "metadata": {},
   "source": [
    "4."
   ]
  },
  {
   "cell_type": "code",
   "execution_count": 53,
   "id": "athletic-stuart",
   "metadata": {},
   "outputs": [
    {
     "data": {
      "text/html": [
       "<table class=\"dataframe\">\n",
       "<caption>A data.frame: 30 × 3</caption>\n",
       "<thead>\n",
       "\t<tr><th scope=col>y</th><th scope=col>x1</th><th scope=col>x2</th></tr>\n",
       "\t<tr><th scope=col>&lt;dbl&gt;</th><th scope=col>&lt;dbl&gt;</th><th scope=col>&lt;int&gt;</th></tr>\n",
       "</thead>\n",
       "<tbody>\n",
       "\t<tr><td>20037.25</td><td>23.27882</td><td>1</td></tr>\n",
       "\t<tr><td>19951.82</td><td>22.99728</td><td>0</td></tr>\n",
       "\t<tr><td>20018.78</td><td>21.47105</td><td>0</td></tr>\n",
       "\t<tr><td>20010.53</td><td>24.61848</td><td>1</td></tr>\n",
       "\t<tr><td>20033.62</td><td>22.67523</td><td>0</td></tr>\n",
       "\t<tr><td>19990.38</td><td>20.92398</td><td>0</td></tr>\n",
       "\t<tr><td>20011.70</td><td>18.16403</td><td>1</td></tr>\n",
       "\t<tr><td>20008.45</td><td>23.94844</td><td>0</td></tr>\n",
       "\t<tr><td>19982.84</td><td>21.92217</td><td>1</td></tr>\n",
       "\t<tr><td>20038.20</td><td>21.97196</td><td>1</td></tr>\n",
       "\t<tr><td>20036.70</td><td>23.63477</td><td>0</td></tr>\n",
       "\t<tr><td>20022.14</td><td>23.42240</td><td>1</td></tr>\n",
       "\t<tr><td>20050.18</td><td>23.02867</td><td>0</td></tr>\n",
       "\t<tr><td>20017.66</td><td>23.59172</td><td>1</td></tr>\n",
       "\t<tr><td>19959.63</td><td>23.35470</td><td>1</td></tr>\n",
       "\t<tr><td>19981.87</td><td>22.12915</td><td>1</td></tr>\n",
       "\t<tr><td>19961.27</td><td>18.55434</td><td>1</td></tr>\n",
       "\t<tr><td>19985.03</td><td>23.07357</td><td>1</td></tr>\n",
       "\t<tr><td>19980.38</td><td>21.90278</td><td>0</td></tr>\n",
       "\t<tr><td>20001.33</td><td>21.73015</td><td>0</td></tr>\n",
       "\t<tr><td>19971.19</td><td>19.45258</td><td>0</td></tr>\n",
       "\t<tr><td>20005.00</td><td>21.17182</td><td>0</td></tr>\n",
       "\t<tr><td>19979.30</td><td>22.72390</td><td>1</td></tr>\n",
       "\t<tr><td>20055.89</td><td>24.35330</td><td>1</td></tr>\n",
       "\t<tr><td>20022.66</td><td>21.82197</td><td>0</td></tr>\n",
       "\t<tr><td>20028.78</td><td>22.67147</td><td>0</td></tr>\n",
       "\t<tr><td>20012.15</td><td>21.90681</td><td>0</td></tr>\n",
       "\t<tr><td>20053.20</td><td>19.61486</td><td>1</td></tr>\n",
       "\t<tr><td>19979.90</td><td>21.28121</td><td>1</td></tr>\n",
       "\t<tr><td>19985.40</td><td>21.31707</td><td>0</td></tr>\n",
       "</tbody>\n",
       "</table>\n"
      ],
      "text/latex": [
       "A data.frame: 30 × 3\n",
       "\\begin{tabular}{lll}\n",
       " y & x1 & x2\\\\\n",
       " <dbl> & <dbl> & <int>\\\\\n",
       "\\hline\n",
       "\t 20037.25 & 23.27882 & 1\\\\\n",
       "\t 19951.82 & 22.99728 & 0\\\\\n",
       "\t 20018.78 & 21.47105 & 0\\\\\n",
       "\t 20010.53 & 24.61848 & 1\\\\\n",
       "\t 20033.62 & 22.67523 & 0\\\\\n",
       "\t 19990.38 & 20.92398 & 0\\\\\n",
       "\t 20011.70 & 18.16403 & 1\\\\\n",
       "\t 20008.45 & 23.94844 & 0\\\\\n",
       "\t 19982.84 & 21.92217 & 1\\\\\n",
       "\t 20038.20 & 21.97196 & 1\\\\\n",
       "\t 20036.70 & 23.63477 & 0\\\\\n",
       "\t 20022.14 & 23.42240 & 1\\\\\n",
       "\t 20050.18 & 23.02867 & 0\\\\\n",
       "\t 20017.66 & 23.59172 & 1\\\\\n",
       "\t 19959.63 & 23.35470 & 1\\\\\n",
       "\t 19981.87 & 22.12915 & 1\\\\\n",
       "\t 19961.27 & 18.55434 & 1\\\\\n",
       "\t 19985.03 & 23.07357 & 1\\\\\n",
       "\t 19980.38 & 21.90278 & 0\\\\\n",
       "\t 20001.33 & 21.73015 & 0\\\\\n",
       "\t 19971.19 & 19.45258 & 0\\\\\n",
       "\t 20005.00 & 21.17182 & 0\\\\\n",
       "\t 19979.30 & 22.72390 & 1\\\\\n",
       "\t 20055.89 & 24.35330 & 1\\\\\n",
       "\t 20022.66 & 21.82197 & 0\\\\\n",
       "\t 20028.78 & 22.67147 & 0\\\\\n",
       "\t 20012.15 & 21.90681 & 0\\\\\n",
       "\t 20053.20 & 19.61486 & 1\\\\\n",
       "\t 19979.90 & 21.28121 & 1\\\\\n",
       "\t 19985.40 & 21.31707 & 0\\\\\n",
       "\\end{tabular}\n"
      ],
      "text/markdown": [
       "\n",
       "A data.frame: 30 × 3\n",
       "\n",
       "| y &lt;dbl&gt; | x1 &lt;dbl&gt; | x2 &lt;int&gt; |\n",
       "|---|---|---|\n",
       "| 20037.25 | 23.27882 | 1 |\n",
       "| 19951.82 | 22.99728 | 0 |\n",
       "| 20018.78 | 21.47105 | 0 |\n",
       "| 20010.53 | 24.61848 | 1 |\n",
       "| 20033.62 | 22.67523 | 0 |\n",
       "| 19990.38 | 20.92398 | 0 |\n",
       "| 20011.70 | 18.16403 | 1 |\n",
       "| 20008.45 | 23.94844 | 0 |\n",
       "| 19982.84 | 21.92217 | 1 |\n",
       "| 20038.20 | 21.97196 | 1 |\n",
       "| 20036.70 | 23.63477 | 0 |\n",
       "| 20022.14 | 23.42240 | 1 |\n",
       "| 20050.18 | 23.02867 | 0 |\n",
       "| 20017.66 | 23.59172 | 1 |\n",
       "| 19959.63 | 23.35470 | 1 |\n",
       "| 19981.87 | 22.12915 | 1 |\n",
       "| 19961.27 | 18.55434 | 1 |\n",
       "| 19985.03 | 23.07357 | 1 |\n",
       "| 19980.38 | 21.90278 | 0 |\n",
       "| 20001.33 | 21.73015 | 0 |\n",
       "| 19971.19 | 19.45258 | 0 |\n",
       "| 20005.00 | 21.17182 | 0 |\n",
       "| 19979.30 | 22.72390 | 1 |\n",
       "| 20055.89 | 24.35330 | 1 |\n",
       "| 20022.66 | 21.82197 | 0 |\n",
       "| 20028.78 | 22.67147 | 0 |\n",
       "| 20012.15 | 21.90681 | 0 |\n",
       "| 20053.20 | 19.61486 | 1 |\n",
       "| 19979.90 | 21.28121 | 1 |\n",
       "| 19985.40 | 21.31707 | 0 |\n",
       "\n"
      ],
      "text/plain": [
       "   y        x1       x2\n",
       "1  20037.25 23.27882 1 \n",
       "2  19951.82 22.99728 0 \n",
       "3  20018.78 21.47105 0 \n",
       "4  20010.53 24.61848 1 \n",
       "5  20033.62 22.67523 0 \n",
       "6  19990.38 20.92398 0 \n",
       "7  20011.70 18.16403 1 \n",
       "8  20008.45 23.94844 0 \n",
       "9  19982.84 21.92217 1 \n",
       "10 20038.20 21.97196 1 \n",
       "11 20036.70 23.63477 0 \n",
       "12 20022.14 23.42240 1 \n",
       "13 20050.18 23.02867 0 \n",
       "14 20017.66 23.59172 1 \n",
       "15 19959.63 23.35470 1 \n",
       "16 19981.87 22.12915 1 \n",
       "17 19961.27 18.55434 1 \n",
       "18 19985.03 23.07357 1 \n",
       "19 19980.38 21.90278 0 \n",
       "20 20001.33 21.73015 0 \n",
       "21 19971.19 19.45258 0 \n",
       "22 20005.00 21.17182 0 \n",
       "23 19979.30 22.72390 1 \n",
       "24 20055.89 24.35330 1 \n",
       "25 20022.66 21.82197 0 \n",
       "26 20028.78 22.67147 0 \n",
       "27 20012.15 21.90681 0 \n",
       "28 20053.20 19.61486 1 \n",
       "29 19979.90 21.28121 1 \n",
       "30 19985.40 21.31707 0 "
      ]
     },
     "metadata": {},
     "output_type": "display_data"
    }
   ],
   "source": [
    "my_data <- data.frame(y,x1,x2)   #data frame\n",
    "my_data"
   ]
  },
  {
   "cell_type": "markdown",
   "id": "pointed-mentor",
   "metadata": {},
   "source": [
    "5."
   ]
  },
  {
   "cell_type": "code",
   "execution_count": 89,
   "id": "constant-radiation",
   "metadata": {},
   "outputs": [
    {
     "name": "stdout",
     "output_type": "stream",
     "text": [
      "[1] 20000.28\n",
      "[1] 22.01192\n",
      "[1] 19998.91\n",
      "[1] 21.90995\n",
      "[1] 680.3824\n",
      "[1] 2.921381\n"
     ]
    }
   ],
   "source": [
    "a = mean(y)\n",
    "b = mean(x1)\n",
    "c = median(y)\n",
    "d = median(x1)\n",
    "e =var(y)\n",
    "f=var(x1)\n",
    "print(a) #mean of y\n",
    "print(b)  #mean of x1\n",
    "print(c) #median of y\n",
    "print(d) #median of x1\n",
    "print(e) #variance of y\n",
    "print(f) #variance of x1"
   ]
  },
  {
   "cell_type": "markdown",
   "id": "incident-shelter",
   "metadata": {},
   "source": [
    "6."
   ]
  },
  {
   "cell_type": "code",
   "execution_count": 90,
   "id": "threaded-fluid",
   "metadata": {},
   "outputs": [
    {
     "data": {
      "image/png": "[encoded data removed]",
      "text/plain": [
       "plot without title"
      ]
     },
     "metadata": {
      "image/png": {
       "height": 420,
       "width": 420
      }
     },
     "output_type": "display_data"
    }
   ],
   "source": [
    "boxplot(y)  #plot of variable y"
   ]
  },
  {
   "cell_type": "markdown",
   "id": "numeric-affairs",
   "metadata": {},
   "source": [
    "7."
   ]
  },
  {
   "cell_type": "code",
   "execution_count": 91,
   "id": "designed-cathedral",
   "metadata": {},
   "outputs": [
    {
     "data": {
      "image/png": "[encoded data removed]",
      "text/plain": [
       "Plot with title “Histogram of y”"
      ]
     },
     "metadata": {
      "image/png": {
       "height": 420,
       "width": 420
      }
     },
     "output_type": "display_data"
    }
   ],
   "source": [
    "hist(y)"
   ]
  },
  {
   "cell_type": "markdown",
   "id": "complete-yeast",
   "metadata": {},
   "source": [
    "8."
   ]
  },
  {
   "cell_type": "code",
   "execution_count": 92,
   "id": "monthly-citizenship",
   "metadata": {},
   "outputs": [
    {
     "data": {
      "image/png": "[encoded data removed]",
      "text/plain": [
       "plot without title"
      ]
     },
     "metadata": {
      "image/png": {
       "height": 420,
       "width": 420
      }
     },
     "output_type": "display_data"
    }
   ],
   "source": [
    "plot(y,x1, type='l')"
   ]
  },
  {
   "cell_type": "code",
   "execution_count": 96,
   "id": "nasty-money",
   "metadata": {},
   "outputs": [
    {
     "data": {
      "text/html": [
       "<style>\n",
       ".list-inline {list-style: none; margin:0; padding: 0}\n",
       ".list-inline>li {display: inline-block}\n",
       ".list-inline>li:not(:last-child)::after {content: \"\\00b7\"; padding: 0 .5ex}\n",
       "</style>\n",
       "<ol class=list-inline><li>5</li><li>1</li><li>2</li><li>3</li><li>4</li></ol>\n"
      ],
      "text/latex": [
       "\\begin{enumerate*}\n",
       "\\item 5\n",
       "\\item 1\n",
       "\\item 2\n",
       "\\item 3\n",
       "\\item 4\n",
       "\\end{enumerate*}\n"
      ],
      "text/markdown": [
       "1. 5\n",
       "2. 1\n",
       "3. 2\n",
       "4. 3\n",
       "5. 4\n",
       "\n",
       "\n"
      ],
      "text/plain": [
       "[1] 5 1 2 3 4"
      ]
     },
     "metadata": {},
     "output_type": "display_data"
    }
   ],
   "source": [
    "my_vec <- 1:5  \n",
    "sample(my_vec) "
   ]
  },
  {
   "cell_type": "code",
   "execution_count": 196,
   "id": "southeast-pendant",
   "metadata": {},
   "outputs": [
    {
     "data": {
      "text/html": [
       "5"
      ],
      "text/latex": [
       "5"
      ],
      "text/markdown": [
       "5"
      ],
      "text/plain": [
       "[1] 5"
      ]
     },
     "metadata": {},
     "output_type": "display_data"
    }
   ],
   "source": [
    "a <- c(1,2,0,7,5)\n",
    "a[runif(1,1,6)]\n",
    "a[1]"
   ]
  },
  {
   "cell_type": "code",
   "execution_count": null,
   "id": "periodic-match",
   "metadata": {},
   "outputs": [],
   "source": [
    "x <- c(2,5,3,9,8,11,6)\n",
    "count <- 0\n",
    "for (val in x) {\n",
    "if(val %% 2 == 0)  count = count+1\n",
    "}\n",
    "print(count)"
   ]
  }
 ],
 "metadata": {
  "kernelspec": {
   "display_name": "R",
   "language": "R",
   "name": "ir"
  },
  "language_info": {
   "codemirror_mode": "r",
   "file_extension": ".r",
   "mimetype": "text/x-r-source",
   "name": "R",
   "pygments_lexer": "r",
   "version": "4.0.4"
  }
 },
 "nbformat": 4,
 "nbformat_minor": 5
}
